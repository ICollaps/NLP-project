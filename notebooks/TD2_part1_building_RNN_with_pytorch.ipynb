{
 "cells": [
  {
   "cell_type": "markdown",
   "id": "895a119a",
   "metadata": {},
   "source": [
    "# Building RNN with Pytorch\n",
    "\n",
    "Dans ce TD, nous allons construire un RNN from scratch avec Pytorch, en suivant les étapes suivantes:\n",
    "1. Sur un problème linéaire, nous allons utiliser les torch optimizers pour trouver le paramètre de régression idéal\n",
    "2. Sur un problème non-linéaire, nous allons construire un multi-layers perceptron\n",
    "3. Sur un problème de texte, nous allons construire un modèle RNN"
   ]
  },
  {
   "cell_type": "code",
   "execution_count": 1,
   "id": "9929e27d",
   "metadata": {
    "ExecuteTime": {
     "start_time": "2023-11-08T22:02:22.715333Z",
     "end_time": "2023-11-08T22:02:25.347371Z"
    }
   },
   "outputs": [],
   "source": [
    "import matplotlib.pyplot as plt\n",
    "import numpy as np\n",
    "import torch.nn as nn\n",
    "import torch.optim as optim\n",
    "import torch"
   ]
  },
  {
   "cell_type": "markdown",
   "id": "511cfa9c",
   "metadata": {},
   "source": [
    "## Optimizers\n",
    "\n",
    "### Données example\n",
    "Nous allons construire des données $y = \\beta^* X + b$\n"
   ]
  },
  {
   "cell_type": "code",
   "execution_count": 2,
   "id": "81d004af",
   "metadata": {
    "ExecuteTime": {
     "start_time": "2023-11-08T22:02:40.262628Z",
     "end_time": "2023-11-08T22:02:40.482066Z"
    }
   },
   "outputs": [
    {
     "data": {
      "text/plain": "[<matplotlib.lines.Line2D at 0x20e5626d640>]"
     },
     "execution_count": 2,
     "metadata": {},
     "output_type": "execute_result"
    },
    {
     "data": {
      "text/plain": "<Figure size 640x480 with 1 Axes>",
      "image/png": "[encoded data removed]"
     },
     "metadata": {},
     "output_type": "display_data"
    }
   ],
   "source": [
    "n = 100\n",
    "\n",
    "a_star = 3.\n",
    "b_star = -3.\n",
    "noise_std = 1\n",
    "\n",
    "x = (np.random.rand(n, 1) - 0.5) * 4\n",
    "noise = np.random.normal(0, noise_std, (n, 1))\n",
    "y = a_star * x + b_star + noise\n",
    "\n",
    "x = torch.tensor(x, dtype=torch.float32)\n",
    "\n",
    "xvec = x\n",
    "plt.plot(x, y, 'o', markersize=10)"
   ]
  },
  {
   "cell_type": "markdown",
   "id": "a30c3616",
   "metadata": {},
   "source": [
    "### Constuire l'optimizer\n",
    "\n",
    "- Avec torch.nn.Parameter(), créer le paramètre beta qui sera optimisé. Les predictions du modèle sont égales à $\\beta \\times X$ \n",
    "- Avec torch.nn.MSELoss, déclarer la loss entre les prédictions et le résultat réel. loss.backward() pour mettre à jour les gradients\n",
    "- Avec torch.optim.Adam, déclarer un optimizer\n",
    "- Construisez la boucle qui, pour n_epochs, va reset les gradients, calculer la loss, mettre à jour les gradients et faire un pas pour optimiser beta"
   ]
  },
  {
   "cell_type": "code",
   "execution_count": null,
   "id": "d5af62a0",
   "metadata": {},
   "outputs": [],
   "source": [
    "# learning_rate = 0.01\n",
    "# n_epochs = 10\n",
    "# batch_size = 10\n",
    "# loss = torch.nn.MSELoss()\n",
    "# loss.backwards()\n",
    "# optim = torch.optim.Adam(torch.nn.Parameter(), lr=learning_rate)\n",
    "# for epoch in n_epochs:\n",
    "#     # gradient to zero\n",
    "#     # loss\n",
    "#     # update gradient\n",
    "#     # beta optimizer"
   ]
  },
  {
   "cell_type": "code",
   "execution_count": 3,
   "outputs": [
    {
     "ename": "TypeError",
     "evalue": "'int' object is not callable",
     "output_type": "error",
     "traceback": [
      "\u001B[1;31m---------------------------------------------------------------------------\u001B[0m",
      "\u001B[1;31mTypeError\u001B[0m                                 Traceback (most recent call last)",
      "Cell \u001B[1;32mIn[3], line 19\u001B[0m\n\u001B[0;32m     16\u001B[0m y_pred \u001B[38;5;241m=\u001B[39m beta \u001B[38;5;241m*\u001B[39m x\n\u001B[0;32m     18\u001B[0m \u001B[38;5;66;03m# Calcul de la perte\u001B[39;00m\n\u001B[1;32m---> 19\u001B[0m loss \u001B[38;5;241m=\u001B[39m \u001B[43mloss_fn\u001B[49m\u001B[43m(\u001B[49m\u001B[43my_pred\u001B[49m\u001B[43m,\u001B[49m\u001B[43m \u001B[49m\u001B[43my\u001B[49m\u001B[43m)\u001B[49m\n\u001B[0;32m     21\u001B[0m \u001B[38;5;66;03m# Rétropropagation (calcul des gradients)\u001B[39;00m\n\u001B[0;32m     22\u001B[0m loss\u001B[38;5;241m.\u001B[39mbackward()\n",
      "File \u001B[1;32m~\\OneDrive\\Documents\\5IABD\\NLP\\NLP-project\\venv\\lib\\site-packages\\torch\\nn\\modules\\module.py:1518\u001B[0m, in \u001B[0;36mModule._wrapped_call_impl\u001B[1;34m(self, *args, **kwargs)\u001B[0m\n\u001B[0;32m   1516\u001B[0m     \u001B[38;5;28;01mreturn\u001B[39;00m \u001B[38;5;28mself\u001B[39m\u001B[38;5;241m.\u001B[39m_compiled_call_impl(\u001B[38;5;241m*\u001B[39margs, \u001B[38;5;241m*\u001B[39m\u001B[38;5;241m*\u001B[39mkwargs)  \u001B[38;5;66;03m# type: ignore[misc]\u001B[39;00m\n\u001B[0;32m   1517\u001B[0m \u001B[38;5;28;01melse\u001B[39;00m:\n\u001B[1;32m-> 1518\u001B[0m     \u001B[38;5;28;01mreturn\u001B[39;00m \u001B[38;5;28mself\u001B[39m\u001B[38;5;241m.\u001B[39m_call_impl(\u001B[38;5;241m*\u001B[39margs, \u001B[38;5;241m*\u001B[39m\u001B[38;5;241m*\u001B[39mkwargs)\n",
      "File \u001B[1;32m~\\OneDrive\\Documents\\5IABD\\NLP\\NLP-project\\venv\\lib\\site-packages\\torch\\nn\\modules\\module.py:1527\u001B[0m, in \u001B[0;36mModule._call_impl\u001B[1;34m(self, *args, **kwargs)\u001B[0m\n\u001B[0;32m   1522\u001B[0m \u001B[38;5;66;03m# If we don't have any hooks, we want to skip the rest of the logic in\u001B[39;00m\n\u001B[0;32m   1523\u001B[0m \u001B[38;5;66;03m# this function, and just call forward.\u001B[39;00m\n\u001B[0;32m   1524\u001B[0m \u001B[38;5;28;01mif\u001B[39;00m \u001B[38;5;129;01mnot\u001B[39;00m (\u001B[38;5;28mself\u001B[39m\u001B[38;5;241m.\u001B[39m_backward_hooks \u001B[38;5;129;01mor\u001B[39;00m \u001B[38;5;28mself\u001B[39m\u001B[38;5;241m.\u001B[39m_backward_pre_hooks \u001B[38;5;129;01mor\u001B[39;00m \u001B[38;5;28mself\u001B[39m\u001B[38;5;241m.\u001B[39m_forward_hooks \u001B[38;5;129;01mor\u001B[39;00m \u001B[38;5;28mself\u001B[39m\u001B[38;5;241m.\u001B[39m_forward_pre_hooks\n\u001B[0;32m   1525\u001B[0m         \u001B[38;5;129;01mor\u001B[39;00m _global_backward_pre_hooks \u001B[38;5;129;01mor\u001B[39;00m _global_backward_hooks\n\u001B[0;32m   1526\u001B[0m         \u001B[38;5;129;01mor\u001B[39;00m _global_forward_hooks \u001B[38;5;129;01mor\u001B[39;00m _global_forward_pre_hooks):\n\u001B[1;32m-> 1527\u001B[0m     \u001B[38;5;28;01mreturn\u001B[39;00m forward_call(\u001B[38;5;241m*\u001B[39margs, \u001B[38;5;241m*\u001B[39m\u001B[38;5;241m*\u001B[39mkwargs)\n\u001B[0;32m   1529\u001B[0m \u001B[38;5;28;01mtry\u001B[39;00m:\n\u001B[0;32m   1530\u001B[0m     result \u001B[38;5;241m=\u001B[39m \u001B[38;5;28;01mNone\u001B[39;00m\n",
      "File \u001B[1;32m~\\OneDrive\\Documents\\5IABD\\NLP\\NLP-project\\venv\\lib\\site-packages\\torch\\nn\\modules\\loss.py:535\u001B[0m, in \u001B[0;36mMSELoss.forward\u001B[1;34m(self, input, target)\u001B[0m\n\u001B[0;32m    534\u001B[0m \u001B[38;5;28;01mdef\u001B[39;00m \u001B[38;5;21mforward\u001B[39m(\u001B[38;5;28mself\u001B[39m, \u001B[38;5;28minput\u001B[39m: Tensor, target: Tensor) \u001B[38;5;241m-\u001B[39m\u001B[38;5;241m>\u001B[39m Tensor:\n\u001B[1;32m--> 535\u001B[0m     \u001B[38;5;28;01mreturn\u001B[39;00m \u001B[43mF\u001B[49m\u001B[38;5;241;43m.\u001B[39;49m\u001B[43mmse_loss\u001B[49m\u001B[43m(\u001B[49m\u001B[38;5;28;43minput\u001B[39;49m\u001B[43m,\u001B[49m\u001B[43m \u001B[49m\u001B[43mtarget\u001B[49m\u001B[43m,\u001B[49m\u001B[43m \u001B[49m\u001B[43mreduction\u001B[49m\u001B[38;5;241;43m=\u001B[39;49m\u001B[38;5;28;43mself\u001B[39;49m\u001B[38;5;241;43m.\u001B[39;49m\u001B[43mreduction\u001B[49m\u001B[43m)\u001B[49m\n",
      "File \u001B[1;32m~\\OneDrive\\Documents\\5IABD\\NLP\\NLP-project\\venv\\lib\\site-packages\\torch\\nn\\functional.py:3318\u001B[0m, in \u001B[0;36mmse_loss\u001B[1;34m(input, target, size_average, reduce, reduction)\u001B[0m\n\u001B[0;32m   3314\u001B[0m \u001B[38;5;28;01mif\u001B[39;00m has_torch_function_variadic(\u001B[38;5;28minput\u001B[39m, target):\n\u001B[0;32m   3315\u001B[0m     \u001B[38;5;28;01mreturn\u001B[39;00m handle_torch_function(\n\u001B[0;32m   3316\u001B[0m         mse_loss, (\u001B[38;5;28minput\u001B[39m, target), \u001B[38;5;28minput\u001B[39m, target, size_average\u001B[38;5;241m=\u001B[39msize_average, reduce\u001B[38;5;241m=\u001B[39mreduce, reduction\u001B[38;5;241m=\u001B[39mreduction\n\u001B[0;32m   3317\u001B[0m     )\n\u001B[1;32m-> 3318\u001B[0m \u001B[38;5;28;01mif\u001B[39;00m \u001B[38;5;129;01mnot\u001B[39;00m (\u001B[43mtarget\u001B[49m\u001B[38;5;241;43m.\u001B[39;49m\u001B[43msize\u001B[49m\u001B[43m(\u001B[49m\u001B[43m)\u001B[49m \u001B[38;5;241m==\u001B[39m \u001B[38;5;28minput\u001B[39m\u001B[38;5;241m.\u001B[39msize()):\n\u001B[0;32m   3319\u001B[0m     warnings\u001B[38;5;241m.\u001B[39mwarn(\n\u001B[0;32m   3320\u001B[0m         \u001B[38;5;124mf\u001B[39m\u001B[38;5;124m\"\u001B[39m\u001B[38;5;124mUsing a target size (\u001B[39m\u001B[38;5;132;01m{\u001B[39;00mtarget\u001B[38;5;241m.\u001B[39msize()\u001B[38;5;132;01m}\u001B[39;00m\u001B[38;5;124m) that is different to the input size (\u001B[39m\u001B[38;5;132;01m{\u001B[39;00m\u001B[38;5;28minput\u001B[39m\u001B[38;5;241m.\u001B[39msize()\u001B[38;5;132;01m}\u001B[39;00m\u001B[38;5;124m). \u001B[39m\u001B[38;5;124m\"\u001B[39m\n\u001B[0;32m   3321\u001B[0m         \u001B[38;5;124m\"\u001B[39m\u001B[38;5;124mThis will likely lead to incorrect results due to broadcasting. \u001B[39m\u001B[38;5;124m\"\u001B[39m\n\u001B[0;32m   3322\u001B[0m         \u001B[38;5;124m\"\u001B[39m\u001B[38;5;124mPlease ensure they have the same size.\u001B[39m\u001B[38;5;124m\"\u001B[39m,\n\u001B[0;32m   3323\u001B[0m         stacklevel\u001B[38;5;241m=\u001B[39m\u001B[38;5;241m2\u001B[39m,\n\u001B[0;32m   3324\u001B[0m     )\n\u001B[0;32m   3325\u001B[0m \u001B[38;5;28;01mif\u001B[39;00m size_average \u001B[38;5;129;01mis\u001B[39;00m \u001B[38;5;129;01mnot\u001B[39;00m \u001B[38;5;28;01mNone\u001B[39;00m \u001B[38;5;129;01mor\u001B[39;00m reduce \u001B[38;5;129;01mis\u001B[39;00m \u001B[38;5;129;01mnot\u001B[39;00m \u001B[38;5;28;01mNone\u001B[39;00m:\n",
      "\u001B[1;31mTypeError\u001B[0m: 'int' object is not callable"
     ]
    }
   ],
   "source": [
    "beta = nn.Parameter(torch.tensor(1.0, dtype=torch.float32), requires_grad=True)\n",
    "loss_fn = torch.nn.MSELoss()\n",
    "optimizer = optim.Adam([beta], lr=0.01)\n",
    "n_epochs = 1000\n",
    "\n",
    "for epoch in range(n_epochs):\n",
    "    optimizer.zero_grad()\n",
    "\n",
    "    y_pred = beta * x\n",
    "\n",
    "    loss = loss_fn(y_pred, y)\n",
    "    loss.backward()\n",
    "\n",
    "    optimizer.step()\n",
    "\n",
    "    if (epoch + 1) % 100 == 0:\n",
    "        print(f'Époque [{epoch + 1}/{n_epochs}], Perte: {loss.item()}')\n",
    "\n",
    "print(f'Valeur optimale de beta: {beta.item()}')"
   ],
   "metadata": {
    "collapsed": false
   }
  },
  {
   "cell_type": "code",
   "execution_count": 4,
   "id": "b669ad46",
   "metadata": {
    "ExecuteTime": {
     "start_time": "2023-11-08T22:02:51.070699Z",
     "end_time": "2023-11-08T22:02:51.216312Z"
    }
   },
   "outputs": [
    {
     "data": {
      "text/plain": "[<matplotlib.lines.Line2D at 0x20e5ae20fd0>]"
     },
     "execution_count": 4,
     "metadata": {},
     "output_type": "execute_result"
    },
    {
     "data": {
      "text/plain": "<Figure size 640x480 with 1 Axes>",
      "image/png": "[encoded data removed]"
     },
     "metadata": {},
     "output_type": "display_data"
    }
   ],
   "source": [
    "# Plot des predictions\n",
    "plt.plot(x, y, 'o', markersize=10)\n",
    "plt.plot(x, beta.item() * x, 'rx')"
   ]
  },
  {
   "cell_type": "markdown",
   "id": "bc7664db",
   "metadata": {},
   "source": [
    "## Construire un multi-layer perceptron (MLP)"
   ]
  },
  {
   "cell_type": "markdown",
   "id": "1270600a",
   "metadata": {},
   "source": [
    "Ici, les données sont $y = a x^2 + b$"
   ]
  },
  {
   "cell_type": "code",
   "execution_count": 9,
   "id": "ad053927",
   "metadata": {
    "ExecuteTime": {
     "start_time": "2023-11-08T22:04:47.703582Z",
     "end_time": "2023-11-08T22:04:47.826574Z"
    }
   },
   "outputs": [
    {
     "data": {
      "text/plain": "[<matplotlib.lines.Line2D at 0x20e5afc9a30>]"
     },
     "execution_count": 9,
     "metadata": {},
     "output_type": "execute_result"
    },
    {
     "data": {
      "text/plain": "<Figure size 640x480 with 1 Axes>",
      "image/png": "[encoded data removed]"
     },
     "metadata": {},
     "output_type": "display_data"
    }
   ],
   "source": [
    "n = 100\n",
    "\n",
    "a_star = 3.\n",
    "b_star = -3.\n",
    "noise_std = 1\n",
    "\n",
    "x = (np.random.rand(n, 1) - 0.5) * 4\n",
    "noise = np.random.normal(0, noise_std, (n, 1))\n",
    "y = a_star * (x ** 2) + b_star + noise\n",
    "\n",
    "x = torch.tensor(x, dtype=torch.float32)\n",
    "\n",
    "xvec = x\n",
    "plt.plot(x, y, 'o', markersize=10)"
   ]
  },
  {
   "cell_type": "markdown",
   "id": "5d285840",
   "metadata": {},
   "source": [
    "Nous allons construire un Pytorch modèle. Dans ce framework, on définit la fonction \"forward\" qui prend en argument les inputs et retourne les prédictions.\n",
    "\n",
    "A l'aide de torch.nn.Module et de différentes layers (torch.nn.Linear, torch.nn.ReLU), terminez la classe ci-dessous pour créer un multi-layers perceptron "
   ]
  },
  {
   "cell_type": "code",
   "execution_count": 8,
   "id": "35fe1d5e",
   "metadata": {
    "ExecuteTime": {
     "start_time": "2023-11-08T22:04:44.967782Z",
     "end_time": "2023-11-08T22:04:44.981779Z"
    }
   },
   "outputs": [],
   "source": [
    "class MLP(torch.nn.Module):\n",
    "    def __init__(self, input_size, hidden_size1, hidden_size2):\n",
    "        super().__init__()\n",
    "        self.input_size = input_size\n",
    "        self.hidden_layer1 = torch.nn.Linear(input_size, hidden_size1)\n",
    "        self.hidden_layer2 = torch.nn.Linear(hidden_size1, hidden_size2)\n",
    "        self.output_layer = torch.nn.Linear(hidden_size2, 1)\n",
    "\n",
    "    def forward(self, X):\n",
    "        X = torch.relu(self.hidden_layer1(X))\n",
    "        X = torch.relu(self.hidden_layer2(X))\n",
    "        X = self.output_layer(X)\n",
    "        return X"
   ]
  },
  {
   "cell_type": "markdown",
   "id": "a6678cd7",
   "metadata": {},
   "source": [
    "En utilisant le travail précédent, faite une cellule utilisant un torch optimizer pour optimiser le MLP"
   ]
  },
  {
   "cell_type": "code",
   "execution_count": 6,
   "outputs": [
    {
     "data": {
      "text/plain": "torch.nn.modules.loss.MSELoss"
     },
     "execution_count": 6,
     "metadata": {},
     "output_type": "execute_result"
    }
   ],
   "source": [
    "type(loss_fn)"
   ],
   "metadata": {
    "collapsed": false,
    "ExecuteTime": {
     "start_time": "2023-11-08T22:04:01.909797Z",
     "end_time": "2023-11-08T22:04:01.923791Z"
    }
   }
  },
  {
   "cell_type": "code",
   "execution_count": 10,
   "id": "b80e23d5",
   "metadata": {},
   "outputs": [
    {
     "ename": "TypeError",
     "evalue": "'int' object is not callable",
     "output_type": "error",
     "traceback": [
      "\u001B[1;31m---------------------------------------------------------------------------\u001B[0m",
      "\u001B[1;31mTypeError\u001B[0m                                 Traceback (most recent call last)",
      "Cell \u001B[1;32mIn[10], line 21\u001B[0m\n\u001B[0;32m     18\u001B[0m y_pred \u001B[38;5;241m=\u001B[39m model(x)\n\u001B[0;32m     20\u001B[0m \u001B[38;5;66;03m# Calcul de la perte\u001B[39;00m\n\u001B[1;32m---> 21\u001B[0m loss \u001B[38;5;241m=\u001B[39m \u001B[43mloss_fn\u001B[49m\u001B[43m(\u001B[49m\u001B[43my_pred\u001B[49m\u001B[43m,\u001B[49m\u001B[43m \u001B[49m\u001B[43my\u001B[49m\u001B[43m)\u001B[49m\n\u001B[0;32m     23\u001B[0m \u001B[38;5;66;03m# Rétropropagation (calcul des gradients)\u001B[39;00m\n\u001B[0;32m     24\u001B[0m loss\u001B[38;5;241m.\u001B[39mbackward()\n",
      "File \u001B[1;32m~\\OneDrive\\Documents\\5IABD\\NLP\\NLP-project\\venv\\lib\\site-packages\\torch\\nn\\modules\\module.py:1518\u001B[0m, in \u001B[0;36mModule._wrapped_call_impl\u001B[1;34m(self, *args, **kwargs)\u001B[0m\n\u001B[0;32m   1516\u001B[0m     \u001B[38;5;28;01mreturn\u001B[39;00m \u001B[38;5;28mself\u001B[39m\u001B[38;5;241m.\u001B[39m_compiled_call_impl(\u001B[38;5;241m*\u001B[39margs, \u001B[38;5;241m*\u001B[39m\u001B[38;5;241m*\u001B[39mkwargs)  \u001B[38;5;66;03m# type: ignore[misc]\u001B[39;00m\n\u001B[0;32m   1517\u001B[0m \u001B[38;5;28;01melse\u001B[39;00m:\n\u001B[1;32m-> 1518\u001B[0m     \u001B[38;5;28;01mreturn\u001B[39;00m \u001B[38;5;28mself\u001B[39m\u001B[38;5;241m.\u001B[39m_call_impl(\u001B[38;5;241m*\u001B[39margs, \u001B[38;5;241m*\u001B[39m\u001B[38;5;241m*\u001B[39mkwargs)\n",
      "File \u001B[1;32m~\\OneDrive\\Documents\\5IABD\\NLP\\NLP-project\\venv\\lib\\site-packages\\torch\\nn\\modules\\module.py:1527\u001B[0m, in \u001B[0;36mModule._call_impl\u001B[1;34m(self, *args, **kwargs)\u001B[0m\n\u001B[0;32m   1522\u001B[0m \u001B[38;5;66;03m# If we don't have any hooks, we want to skip the rest of the logic in\u001B[39;00m\n\u001B[0;32m   1523\u001B[0m \u001B[38;5;66;03m# this function, and just call forward.\u001B[39;00m\n\u001B[0;32m   1524\u001B[0m \u001B[38;5;28;01mif\u001B[39;00m \u001B[38;5;129;01mnot\u001B[39;00m (\u001B[38;5;28mself\u001B[39m\u001B[38;5;241m.\u001B[39m_backward_hooks \u001B[38;5;129;01mor\u001B[39;00m \u001B[38;5;28mself\u001B[39m\u001B[38;5;241m.\u001B[39m_backward_pre_hooks \u001B[38;5;129;01mor\u001B[39;00m \u001B[38;5;28mself\u001B[39m\u001B[38;5;241m.\u001B[39m_forward_hooks \u001B[38;5;129;01mor\u001B[39;00m \u001B[38;5;28mself\u001B[39m\u001B[38;5;241m.\u001B[39m_forward_pre_hooks\n\u001B[0;32m   1525\u001B[0m         \u001B[38;5;129;01mor\u001B[39;00m _global_backward_pre_hooks \u001B[38;5;129;01mor\u001B[39;00m _global_backward_hooks\n\u001B[0;32m   1526\u001B[0m         \u001B[38;5;129;01mor\u001B[39;00m _global_forward_hooks \u001B[38;5;129;01mor\u001B[39;00m _global_forward_pre_hooks):\n\u001B[1;32m-> 1527\u001B[0m     \u001B[38;5;28;01mreturn\u001B[39;00m forward_call(\u001B[38;5;241m*\u001B[39margs, \u001B[38;5;241m*\u001B[39m\u001B[38;5;241m*\u001B[39mkwargs)\n\u001B[0;32m   1529\u001B[0m \u001B[38;5;28;01mtry\u001B[39;00m:\n\u001B[0;32m   1530\u001B[0m     result \u001B[38;5;241m=\u001B[39m \u001B[38;5;28;01mNone\u001B[39;00m\n",
      "File \u001B[1;32m~\\OneDrive\\Documents\\5IABD\\NLP\\NLP-project\\venv\\lib\\site-packages\\torch\\nn\\modules\\loss.py:535\u001B[0m, in \u001B[0;36mMSELoss.forward\u001B[1;34m(self, input, target)\u001B[0m\n\u001B[0;32m    534\u001B[0m \u001B[38;5;28;01mdef\u001B[39;00m \u001B[38;5;21mforward\u001B[39m(\u001B[38;5;28mself\u001B[39m, \u001B[38;5;28minput\u001B[39m: Tensor, target: Tensor) \u001B[38;5;241m-\u001B[39m\u001B[38;5;241m>\u001B[39m Tensor:\n\u001B[1;32m--> 535\u001B[0m     \u001B[38;5;28;01mreturn\u001B[39;00m \u001B[43mF\u001B[49m\u001B[38;5;241;43m.\u001B[39;49m\u001B[43mmse_loss\u001B[49m\u001B[43m(\u001B[49m\u001B[38;5;28;43minput\u001B[39;49m\u001B[43m,\u001B[49m\u001B[43m \u001B[49m\u001B[43mtarget\u001B[49m\u001B[43m,\u001B[49m\u001B[43m \u001B[49m\u001B[43mreduction\u001B[49m\u001B[38;5;241;43m=\u001B[39;49m\u001B[38;5;28;43mself\u001B[39;49m\u001B[38;5;241;43m.\u001B[39;49m\u001B[43mreduction\u001B[49m\u001B[43m)\u001B[49m\n",
      "File \u001B[1;32m~\\OneDrive\\Documents\\5IABD\\NLP\\NLP-project\\venv\\lib\\site-packages\\torch\\nn\\functional.py:3318\u001B[0m, in \u001B[0;36mmse_loss\u001B[1;34m(input, target, size_average, reduce, reduction)\u001B[0m\n\u001B[0;32m   3314\u001B[0m \u001B[38;5;28;01mif\u001B[39;00m has_torch_function_variadic(\u001B[38;5;28minput\u001B[39m, target):\n\u001B[0;32m   3315\u001B[0m     \u001B[38;5;28;01mreturn\u001B[39;00m handle_torch_function(\n\u001B[0;32m   3316\u001B[0m         mse_loss, (\u001B[38;5;28minput\u001B[39m, target), \u001B[38;5;28minput\u001B[39m, target, size_average\u001B[38;5;241m=\u001B[39msize_average, reduce\u001B[38;5;241m=\u001B[39mreduce, reduction\u001B[38;5;241m=\u001B[39mreduction\n\u001B[0;32m   3317\u001B[0m     )\n\u001B[1;32m-> 3318\u001B[0m \u001B[38;5;28;01mif\u001B[39;00m \u001B[38;5;129;01mnot\u001B[39;00m (\u001B[43mtarget\u001B[49m\u001B[38;5;241;43m.\u001B[39;49m\u001B[43msize\u001B[49m\u001B[43m(\u001B[49m\u001B[43m)\u001B[49m \u001B[38;5;241m==\u001B[39m \u001B[38;5;28minput\u001B[39m\u001B[38;5;241m.\u001B[39msize()):\n\u001B[0;32m   3319\u001B[0m     warnings\u001B[38;5;241m.\u001B[39mwarn(\n\u001B[0;32m   3320\u001B[0m         \u001B[38;5;124mf\u001B[39m\u001B[38;5;124m\"\u001B[39m\u001B[38;5;124mUsing a target size (\u001B[39m\u001B[38;5;132;01m{\u001B[39;00mtarget\u001B[38;5;241m.\u001B[39msize()\u001B[38;5;132;01m}\u001B[39;00m\u001B[38;5;124m) that is different to the input size (\u001B[39m\u001B[38;5;132;01m{\u001B[39;00m\u001B[38;5;28minput\u001B[39m\u001B[38;5;241m.\u001B[39msize()\u001B[38;5;132;01m}\u001B[39;00m\u001B[38;5;124m). \u001B[39m\u001B[38;5;124m\"\u001B[39m\n\u001B[0;32m   3321\u001B[0m         \u001B[38;5;124m\"\u001B[39m\u001B[38;5;124mThis will likely lead to incorrect results due to broadcasting. \u001B[39m\u001B[38;5;124m\"\u001B[39m\n\u001B[0;32m   3322\u001B[0m         \u001B[38;5;124m\"\u001B[39m\u001B[38;5;124mPlease ensure they have the same size.\u001B[39m\u001B[38;5;124m\"\u001B[39m,\n\u001B[0;32m   3323\u001B[0m         stacklevel\u001B[38;5;241m=\u001B[39m\u001B[38;5;241m2\u001B[39m,\n\u001B[0;32m   3324\u001B[0m     )\n\u001B[0;32m   3325\u001B[0m \u001B[38;5;28;01mif\u001B[39;00m size_average \u001B[38;5;129;01mis\u001B[39;00m \u001B[38;5;129;01mnot\u001B[39;00m \u001B[38;5;28;01mNone\u001B[39;00m \u001B[38;5;129;01mor\u001B[39;00m reduce \u001B[38;5;129;01mis\u001B[39;00m \u001B[38;5;129;01mnot\u001B[39;00m \u001B[38;5;28;01mNone\u001B[39;00m:\n",
      "\u001B[1;31mTypeError\u001B[0m: 'int' object is not callable"
     ]
    }
   ],
   "source": [
    "# Définir un modèle MLP\n",
    "input_size = 1\n",
    "hidden_size1 = 64\n",
    "hidden_size2 = 32\n",
    "n_epochs = 1000\n",
    "\n",
    "model = MLP(input_size, hidden_size1, hidden_size2)\n",
    "\n",
    "loss_fn = nn.MSELoss()\n",
    "optimizer = optim.Adam(model.parameters(), lr=0.01)\n",
    "\n",
    "for epoch in range(n_epochs):\n",
    "    optimizer.zero_grad()\n",
    "\n",
    "    y_pred = model(x)\n",
    "\n",
    "    loss = loss_fn(y_pred, y)\n",
    "    loss.backward()\n",
    "\n",
    "    optimizer.step()\n",
    "\n",
    "    if (epoch + 1) % 100 == 0:\n",
    "        print(f'Époque [{epoch + 1}/{n_epochs}], Perte: {loss.item()}')\n",
    "\n",
    "print(\"Perte finale:\", loss.item())"
   ]
  },
  {
   "cell_type": "code",
   "execution_count": 11,
   "id": "2b056a8e",
   "metadata": {
    "ExecuteTime": {
     "start_time": "2023-11-08T22:04:57.431149Z",
     "end_time": "2023-11-08T22:04:57.587432Z"
    }
   },
   "outputs": [
    {
     "data": {
      "text/plain": "[<matplotlib.lines.Line2D at 0x20e5af6b5e0>]"
     },
     "execution_count": 11,
     "metadata": {},
     "output_type": "execute_result"
    },
    {
     "data": {
      "text/plain": "<Figure size 640x480 with 1 Axes>",
      "image/png": "[encoded data removed]"
     },
     "metadata": {},
     "output_type": "display_data"
    }
   ],
   "source": [
    "# Plot des predictions\n",
    "plt.plot(x, y, 'o', markersize=10)\n",
    "plt.plot(x, model(x).detach(), 'rx')"
   ]
  },
  {
   "cell_type": "markdown",
   "id": "6b679a74",
   "metadata": {},
   "source": [
    "## Construire un Recurrent Neural Network (RNN) from scratch"
   ]
  },
  {
   "cell_type": "markdown",
   "id": "69393034",
   "metadata": {},
   "source": [
    "### Données\n",
    " \n",
    "Téléchargez [ici](https://download.pytorch.org/tutorial/data.zip) un jeu de données \"nom\" -> pays d'origine du nom.\n",
    "Les noms de chaque pays sont dans leur fichier texte \"[country].txt\"\n",
    "\n",
    "A partir de ces données, créez X la liste des noms et y le pays d'origine de chaque nom"
   ]
  },
  {
   "cell_type": "markdown",
   "id": "f8e33ad1",
   "metadata": {},
   "source": [
    "### Aide pour générer les données\n",
    "\n",
    "A la fin de ce code, on lit les noms et leur pays d'origine.<br>\n",
    "On a une fonction randomTrainingExample, qui génère le pays d'origine et le nom (en texte), puis l'ID de ce pays et le tenseur représetant le nom. <br>\n",
    "\n",
    "A partir de là, vous pouvez générer les données X, y comme vous voulez"
   ]
  },
  {
   "cell_type": "code",
   "execution_count": 21,
   "id": "8669e66d",
   "metadata": {
    "scrolled": true,
    "ExecuteTime": {
     "start_time": "2023-11-08T22:11:51.166768Z",
     "end_time": "2023-11-08T22:11:51.188781Z"
    }
   },
   "outputs": [],
   "source": [
    "# Code pour générer le jeu de données\n",
    "# En admettant que les fichiers ont été extraits dans data/raw/names/\n",
    "\n",
    "import math\n",
    "import numpy as np\n",
    "from pathlib import Path\n",
    "import random\n",
    "import string\n",
    "import time\n",
    "import unicodedata\n",
    "\n",
    "path = Path(\"../data/names/\")"
   ]
  },
  {
   "cell_type": "code",
   "execution_count": 24,
   "id": "5ed6fb05",
   "metadata": {
    "ExecuteTime": {
     "start_time": "2023-11-08T22:18:34.404675Z",
     "end_time": "2023-11-08T22:18:34.419680Z"
    }
   },
   "outputs": [],
   "source": [
    "def read_names(path):\n",
    "    category_lines = {}\n",
    "    for file in path.iterdir():\n",
    "        if not file.name.endswith(\".txt\"):\n",
    "            continue\n",
    "\n",
    "        with open(file, encoding='utf-8') as f:\n",
    "            names = [unicodeToAscii(line.strip()) for line in f]\n",
    "\n",
    "        category = file.stem\n",
    "        category_lines[category] = names\n",
    "\n",
    "    return category_lines\n",
    "\n",
    "\n",
    "# Handling ASCII stuff\n",
    "all_letters = string.ascii_letters + \" .,;'\"\n",
    "n_letters = len(all_letters)\n",
    "\n",
    "\n",
    "# Turn a Unicode string to plain ASCII, thanks to https://stackoverflow.com/a/518232/2809427\n",
    "def unicodeToAscii(s):\n",
    "    return ''.join(\n",
    "        c for c in unicodedata.normalize('NFD', s)\n",
    "        if unicodedata.category(c) != 'Mn'\n",
    "        and c in all_letters\n",
    "    )"
   ]
  },
  {
   "cell_type": "code",
   "execution_count": 25,
   "id": "bfc37069",
   "metadata": {
    "ExecuteTime": {
     "start_time": "2023-11-08T22:18:36.720837Z",
     "end_time": "2023-11-08T22:18:36.774826Z"
    }
   },
   "outputs": [],
   "source": [
    "category_lines = read_names(path)\n",
    "all_categories = list(category_lines.keys())\n",
    "n_categories = len(all_categories)"
   ]
  },
  {
   "cell_type": "code",
   "execution_count": 27,
   "id": "312870b8",
   "metadata": {
    "ExecuteTime": {
     "start_time": "2023-11-08T22:19:02.397565Z",
     "end_time": "2023-11-08T22:19:02.419562Z"
    }
   },
   "outputs": [],
   "source": [
    "\n",
    "# Find letter index from all_letters, e.g. \"a\" = 0\n",
    "def letterToIndex(letter):\n",
    "    return all_letters.find(letter)\n",
    "\n",
    "\n",
    "# Just for demonstration, turn a letter into a <1 x n_letters> Tensor\n",
    "def letterToTensor(letter):\n",
    "    tensor = torch.zeros(1, n_letters)\n",
    "    tensor[0][letterToIndex(letter)] = 1\n",
    "    return tensor\n",
    "\n",
    "\n",
    "# Turn a line into a <line_length x 1 x n_letters>,\n",
    "# or an array of one-hot letter vectors\n",
    "def lineToTensor(line):\n",
    "    tensor = torch.zeros(len(line), 1, n_letters)\n",
    "    for li, letter in enumerate(line):\n",
    "        tensor[li][0][letterToIndex(letter)] = 1\n",
    "    return tensor"
   ]
  },
  {
   "cell_type": "code",
   "execution_count": 35,
   "id": "0b606108",
   "metadata": {
    "ExecuteTime": {
     "start_time": "2023-11-08T22:28:29.888583Z",
     "end_time": "2023-11-08T22:28:29.896578Z"
    }
   },
   "outputs": [
    {
     "name": "stdout",
     "output_type": "stream",
     "text": [
      "Nom: Truong | Pays: Vietnamese\n",
      "Nom: Scott | Pays: Scottish\n",
      "Nom: Shaw | Pays: Scottish\n",
      "Nom: Liatos | Pays: Greek\n",
      "Nom: Overett | Pays: English\n",
      "Nom: Turyansky | Pays: Russian\n",
      "Nom: Nahas | Pays: Arabic\n",
      "Nom: Marshall | Pays: Scottish\n",
      "Nom: Kahae | Pays: Japanese\n",
      "Nom: Salazar | Pays: Portuguese\n"
     ]
    }
   ],
   "source": [
    "def randomChoice(l):\n",
    "    return l[random.randint(0, len(l) - 1)]\n",
    "\n",
    "\n",
    "def randomTrainingExample():\n",
    "    category = randomChoice(all_categories)\n",
    "    line = randomChoice(category_lines[category])\n",
    "    category_tensor = torch.tensor([all_categories.index(category)], dtype=torch.long)\n",
    "    line_tensor = lineToTensor(line)\n",
    "    return category, line, category_tensor, line_tensor\n",
    "\n",
    "X = []\n",
    "y = []\n",
    "\n",
    "for i in range(10):\n",
    "    category, line, category_tensor, line_tensor = randomTrainingExample()\n",
    "    X.append(line)\n",
    "    y.append(category)\n",
    "\n",
    "\n",
    "for name, country in zip(X, y):\n",
    "    print('Nom:', name, '| Pays:', country)"
   ]
  },
  {
   "cell_type": "markdown",
   "id": "199a9224",
   "metadata": {},
   "source": [
    "### Construire le RNN\n",
    "\n",
    "Un Recurrent Neural Network prend, pour prédire un input X et un hidden state H.<br>\n",
    "Il output une prédiction et un nouvel hidden state pour la prochaine étape.<br>\n",
    "Nous allons construire un modèle:\n",
    "\n",
    "$f(name, H_0) = (proba(\\mbox{name from country 0}), proba(\\mbox{name from country 1}), \\dots)$\n",
    "\n",
    "Avec $H_0$ un hidden state initial (qui sera appris).\n",
    "\n",
    "Pour l'instant, nous allons construire un RNN linéaire.<br>\n",
    "Comme pour le MLP, construisez un torch.nn.Module:\n",
    "- A l'init, la classe prendra les arguments input_size, hidden_state_dim, output_size\n",
    "- L'init déclare un paramètre pour l'hidden state initial $H_0$, une layer linéaire prenant (input, hidden_state) -> output_size\n",
    "- Le forward fonctionnera ainsi:\n",
    "    - hidden_state = $H_0$\n",
    "    - For letter in name:\n",
    "        - x = one-hot encode (letter)\n",
    "        - output, hidden_state = linear_layer(x, hidden_state)\n",
    "    - return softmax(output)\n"
   ]
  },
  {
   "cell_type": "code",
   "execution_count": 39,
   "id": "3ab32234",
   "metadata": {},
   "outputs": [
    {
     "ename": "AttributeError",
     "evalue": "'super' object has no attribute '_LinearRNN__init'",
     "output_type": "error",
     "traceback": [
      "\u001B[1;31m---------------------------------------------------------------------------\u001B[0m",
      "\u001B[1;31mAttributeError\u001B[0m                            Traceback (most recent call last)",
      "Cell \u001B[1;32mIn[39], line 36\u001B[0m\n\u001B[0;32m     34\u001B[0m hidden_state_dim \u001B[38;5;241m=\u001B[39m \u001B[38;5;241m128\u001B[39m\n\u001B[0;32m     35\u001B[0m output_size \u001B[38;5;241m=\u001B[39m n_categories  \u001B[38;5;66;03m# Number of countries\u001B[39;00m\n\u001B[1;32m---> 36\u001B[0m rnn \u001B[38;5;241m=\u001B[39m \u001B[43mLinearRNN\u001B[49m\u001B[43m(\u001B[49m\u001B[43minput_size\u001B[49m\u001B[43m,\u001B[49m\u001B[43m \u001B[49m\u001B[43mhidden_state_dim\u001B[49m\u001B[43m,\u001B[49m\u001B[43m \u001B[49m\u001B[43moutput_size\u001B[49m\u001B[43m)\u001B[49m\n\u001B[0;32m     38\u001B[0m name \u001B[38;5;241m=\u001B[39m \u001B[38;5;124m\"\u001B[39m\u001B[38;5;124mJohn\u001B[39m\u001B[38;5;124m\"\u001B[39m  \u001B[38;5;66;03m# Replace with the name you want to predict\u001B[39;00m\n\u001B[0;32m     39\u001B[0m probas \u001B[38;5;241m=\u001B[39m rnn(name)\n",
      "Cell \u001B[1;32mIn[39], line 3\u001B[0m, in \u001B[0;36mLinearRNN.__init__\u001B[1;34m(self, input_size, hidden_state_dim, output_size)\u001B[0m\n\u001B[0;32m      2\u001B[0m \u001B[38;5;28;01mdef\u001B[39;00m \u001B[38;5;21m__init__\u001B[39m(\u001B[38;5;28mself\u001B[39m, input_size, hidden_state_dim, output_size):\n\u001B[1;32m----> 3\u001B[0m     \u001B[38;5;28;43msuper\u001B[39;49m\u001B[43m(\u001B[49m\u001B[43mLinearRNN\u001B[49m\u001B[43m,\u001B[49m\u001B[43m \u001B[49m\u001B[38;5;28;43mself\u001B[39;49m\u001B[43m)\u001B[49m\u001B[38;5;241;43m.\u001B[39;49m\u001B[43m__init\u001B[49m()\n\u001B[0;32m      5\u001B[0m     \u001B[38;5;66;03m# Initial hidden state parameter\u001B[39;00m\n\u001B[0;32m      6\u001B[0m     \u001B[38;5;28mself\u001B[39m\u001B[38;5;241m.\u001B[39mH_0 \u001B[38;5;241m=\u001B[39m nn\u001B[38;5;241m.\u001B[39mParameter(torch\u001B[38;5;241m.\u001B[39mrandn(\u001B[38;5;241m1\u001B[39m, hidden_state_dim))\n",
      "\u001B[1;31mAttributeError\u001B[0m: 'super' object has no attribute '_LinearRNN__init'"
     ]
    }
   ],
   "source": [
    "\n",
    "class LinearRNN(nn.Module):\n",
    "    def __init__(self, input_size, hidden_state_dim, output_size):\n",
    "        super(LinearRNN, self).__init()\n",
    "\n",
    "        self.H_0 = nn.Parameter(torch.randn(1, hidden_state_dim))\n",
    "        self.linear_layer = nn.Linear(input_size + hidden_state_dim, output_size)\n",
    "\n",
    "    def forward(self, name):\n",
    "        hidden_state = self.H_0\n",
    "\n",
    "        for letter in name:\n",
    "            x = torch.zeros(1, input_size)\n",
    "            x[0][letterToIndex(letter)] = 1\n",
    "\n",
    "            combined = torch.cat((x, hidden_state), dim=1)\n",
    "\n",
    "            output = self.linear_layer(combined)\n",
    "\n",
    "            hidden_state = output\n",
    "\n",
    "        output = torch.squeeze(output, 0)  # Remove the batch dimension\n",
    "        return torch.softmax(output, dim=0)\n",
    "\n",
    "input_size = n_letters\n",
    "hidden_state_dim = 128\n",
    "output_size = n_categories\n",
    "rnn = LinearRNN(input_size, hidden_state_dim, output_size)\n",
    "\n",
    "name = \"John\"  # Replace with the name you want to predict\n",
    "probas = rnn(name)\n",
    "print(probas)\n"
   ]
  },
  {
   "cell_type": "markdown",
   "id": "61972503",
   "metadata": {},
   "source": [
    "A l'aide de la negative log likelihood (torch.nn.NLLLoss), construisez une boucle optimisant ce modèle (optimizer, itération au sein des examples).\n",
    "\n",
    "**Attention 1:** Ici, on n'a pas des tenseurs X, y. On va prendre les exemples 1 par 1.<br>\n",
    "**Attention 2:** Si le modèle apprend les examples dans l'ordre (d'abord tous les noms arabes, puis tous les chinois, puis tous les tchèques, etc), cela changera grandement le résulat (et le modèle sera très mauvais)"
   ]
  },
  {
   "cell_type": "code",
   "execution_count": null,
   "id": "dce66341",
   "metadata": {},
   "outputs": [],
   "source": []
  },
  {
   "cell_type": "markdown",
   "id": "a2625860",
   "metadata": {},
   "source": [
    "## Utilisez les RNNs de Pytorch\n",
    "\n",
    "Sur le même jeu de données, nous allons utiliser les RNNs déjà codés par Pytorch.<br>"
   ]
  },
  {
   "cell_type": "markdown",
   "id": "264251cf",
   "metadata": {},
   "source": [
    "### Padding\n",
    "\n",
    "Nous voulons aussi utiliser des tenseurs X et y pour utiliser data loader pour les batchs, etc\n",
    "\n",
    "\n",
    "Avec du padding, créer un tenseur X de la taille (nb_data, name_max_length, vocab_size). <br>\n",
    "X[i, j, :] contient le one-hot encode de la j-ème lettre du i-ème prénom. Si le i-ème prénom a moins de j lettre, alors X[i, j, :] est un vecteur nul"
   ]
  },
  {
   "cell_type": "code",
   "execution_count": null,
   "id": "eaa21023",
   "metadata": {},
   "outputs": [],
   "source": []
  },
  {
   "cell_type": "markdown",
   "id": "a0e91689",
   "metadata": {},
   "source": [
    "### Modèle\n",
    "\n",
    "Construisez un modèle qui:\n",
    "- A l'init, déclare un hidden state initial $H_0$, un RNN (avec torch.nn.RNN)\n",
    "- Au forward, passe (input, $H_0$) dans le RNN, puis applique un softmax à l'output"
   ]
  },
  {
   "cell_type": "code",
   "execution_count": null,
   "id": "b5b60d00",
   "metadata": {},
   "outputs": [],
   "source": []
  },
  {
   "cell_type": "markdown",
   "id": "2a81d080",
   "metadata": {},
   "source": [
    "Entraînez le modèle avec des batchs de X, y"
   ]
  },
  {
   "cell_type": "code",
   "execution_count": null,
   "id": "2c675881",
   "metadata": {},
   "outputs": [],
   "source": []
  },
  {
   "cell_type": "markdown",
   "id": "eda0372a",
   "metadata": {},
   "source": [
    "### Amélioration du modèle\n",
    "\n",
    "Tenter d'améliorer le modèle:\n",
    "- En utilisant plusieurs layers dans le RNN\n",
    "- En utilisant LSTM à la place de RNN (une autre forme de recurrent neural network, plus avancé)\n",
    "\n",
    "(regardez la doc)"
   ]
  },
  {
   "cell_type": "code",
   "execution_count": null,
   "id": "f688924b",
   "metadata": {},
   "outputs": [],
   "source": []
  },
  {
   "cell_type": "markdown",
   "id": "da84e069",
   "metadata": {},
   "source": [
    "### Embedding\n",
    "\n",
    "On veut utiliser en embedding pour les lettres.\n",
    "Le forward appliquerait l'embedding aux lettres, puis les layers RNN prendrait l'embedding comme input\n",
    "\n",
    "Nous allons utiliser torch.nn.Embedding\n",
    "**Attention**: Embedding ne prend pas les lettres one-hot encoded, mais leurs indices.\n",
    "Par exemple, \"abca\", il lui faudrait le vecteur [0, 1, 2, 0]<br>\n",
    "et non [[1, 0, 0], [0, 1, 0], [0, 0, 1], [1, 0, 0]]"
   ]
  },
  {
   "cell_type": "markdown",
   "id": "c0418088",
   "metadata": {},
   "source": [
    "**Expérimenter torch.nn.Embedding**<br>\n",
    "Instantier \"emb\" une torch.nn.Embedding avec les bons paramètres (regardez la doc)\n",
    "En construisant le bon tenseur X_emb,\n",
    "\n",
    "```emb(X_emb)```\n",
    "\n",
    "doit retourner un tenseur (qui n'a pas de sens car il n'a rien appris pour l'instant, mais les opérations se passent bien)"
   ]
  },
  {
   "cell_type": "code",
   "execution_count": null,
   "id": "617eb47b",
   "metadata": {},
   "outputs": [],
   "source": []
  },
  {
   "cell_type": "markdown",
   "id": "508cc851",
   "metadata": {},
   "source": [
    "Construisez un modèle RNN, où les lettres passent par l'embedding avant d'être envoyées dans les couches de RNN.\n",
    "Construisez une loop d'apprentissage\n",
    "\n",
    "Expérimentez plusieurs valeurs pour le nombre de couche, la taille d'embedding ou les tailles d'hidden state.<br>\n",
    "Quel neg log likelihood obtenez-vous ?"
   ]
  },
  {
   "cell_type": "code",
   "execution_count": null,
   "id": "25e58d7a",
   "metadata": {},
   "outputs": [],
   "source": []
  }
 ],
 "metadata": {
  "kernelspec": {
   "display_name": "Python 3 (ipykernel)",
   "language": "python",
   "name": "python3"
  },
  "language_info": {
   "codemirror_mode": {
    "name": "ipython",
    "version": 3
   },
   "file_extension": ".py",
   "mimetype": "text/x-python",
   "name": "python",
   "nbconvert_exporter": "python",
   "pygments_lexer": "ipython3",
   "version": "3.10.12"
  }
 },
 "nbformat": 4,
 "nbformat_minor": 5
}
